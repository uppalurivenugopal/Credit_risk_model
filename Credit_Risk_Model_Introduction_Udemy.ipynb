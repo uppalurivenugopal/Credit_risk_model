{
  "nbformat": 4,
  "nbformat_minor": 0,
  "metadata": {
    "colab": {
      "name": "Credit Risk Model Introduction_Udemy.ipynb",
      "provenance": [],
      "collapsed_sections": [],
      "toc_visible": true,
      "authorship_tag": "ABX9TyPhpWl7SxSt7RA4JGIMi3kj",
      "include_colab_link": true
    },
    "kernelspec": {
      "name": "python3",
      "display_name": "Python 3"
    },
    "language_info": {
      "name": "python"
    }
  },
  "cells": [
    {
      "cell_type": "markdown",
      "metadata": {
        "id": "view-in-github",
        "colab_type": "text"
      },
      "source": [
        "<a href=\"https://colab.research.google.com/github/uppalurivenugopal/Credit_risk_model/blob/main/Credit_Risk_Model_Introduction_Udemy.ipynb\" target=\"_parent\"><img src=\"https://colab.research.google.com/assets/colab-badge.svg\" alt=\"Open In Colab\"/></a>"
      ]
    },
    {
      "cell_type": "markdown",
      "source": [
        "#Introduction"
      ],
      "metadata": {
        "id": "vVs3W1UxexsC"
      }
    },
    {
      "cell_type": "markdown",
      "source": [
        "This colab file aims to take you through credit risk modelling. It starts with an introduction to what exactly is credit risk, why is it important to financial institutions and how financial institutions actually measure it"
      ],
      "metadata": {
        "id": "u4wX8jgxfFUK"
      }
    },
    {
      "cell_type": "markdown",
      "source": [
        "#What is Credit Risk?"
      ],
      "metadata": {
        "id": "MipS1Dkqe9Yx"
      }
    },
    {
      "cell_type": "markdown",
      "source": [
        "Creditor (The Lender/ Bank/ Financial Institution) provides funds to the Debtor (or Borrower) some funds on a trust basis that the funds will be repaid over a period of time. \n",
        "\n",
        "Bank makes a profit by way of interest income on loans (Home/ vehicle loan)\n",
        "\n",
        "The likelihood that a borrower would not repay their loan to the lender is known as \"Credit Risk\". \n",
        "\n",
        "Bank incurs a loss by way of (a) not receiving the principal or interest income from the debtor and (b) substantial costs involved in recovering the outstanding amount from the borrower (this is referred to collection costs)\n",
        "\n",
        "As a risk mitigation strategy, the lender must assess the credit risk associated with each borrower. This can be done using (a) having collaterals (b) higher interest rate for risky borrowers (this is called risk based pricing)"
      ],
      "metadata": {
        "id": "39QuuSBJhFXo"
      }
    },
    {
      "cell_type": "markdown",
      "source": [
        "#Compoenents of Credit Risk Model"
      ],
      "metadata": {
        "id": "mjVqW8nOh1gn"
      }
    },
    {
      "cell_type": "markdown",
      "source": [
        "Here, we will be building 3 different models \n",
        "1. PD - Probability of Default Model (Binomial Logistic Regression)\n",
        "2. LGD - Loss given Default Model (Beta Regression)\n",
        "3. EAD - Exposure at Default Model (Beta Regression)\n",
        "\n",
        "Once we have the output from these 3 models, the final loss is calculated as - \n",
        "\n",
        "EL (Expected Loss) = PD * LGD * EAD\n",
        "\n",
        "EL is a very important measure for the bank. Factors that drive this loss include (a) Borrower-specific factors and (b) economic environemnt and (c) combination of the two \n",
        "\n",
        "Once a credit risk model is built, it has to be revisted from time to time with the changing demogrpahics of the customers. "
      ],
      "metadata": {
        "id": "LdiZqUVagNVy"
      }
    },
    {
      "cell_type": "markdown",
      "source": [
        "#Example of calculating Expected Loss"
      ],
      "metadata": {
        "id": "hxPRkr9mp5kT"
      }
    },
    {
      "cell_type": "markdown",
      "source": [
        "Expected Loss or Expected Credit Loss - Amount of lomey that the lender might loose by lending to a borrower\n",
        "\n",
        "PD - Likelihood of a borrower will not be able or are not willing to repay their debt in full or on time\n",
        "\n",
        "LGD - Proportion of the total exposure that cannot be recovered by the vendor once a default has occured\n",
        "\n",
        "EAD - Total value that a vendor is exposed to when the borrower default\n",
        "\n",
        "Lets say borrower wants to build a house with $500,000. \n",
        "\n",
        "The lendor funds 80% of the amount or $400,000 (Loan to Value)\n",
        "\n",
        "Lets say, after a certain time frame, the borrower has paid back $40,000 over certain installments\n",
        "\n",
        "So, the outstanding principal is $360,000 (this is referred to as Exposure at Default)\n",
        "\n",
        "Lets assume that our historical data suggests that one in four home borrowers has defaulted. So, our probability of default in this case will be 0.25\n",
        "\n",
        "as the borrower has defaulted, the bank can sell the asset. Lets say, they were able to sell the house for $342,000.  \n",
        "\n",
        "$360,000 - $342,000 = $18,000. \n",
        "\n",
        "LGD is calculated as (18000) / (360000) = 5%\n",
        "\n",
        "So, total expected loss (EL) in this case is \n",
        "\n",
        "EL = 25% * 5% * $360,000 = $4,500\n",
        "\n"
      ],
      "metadata": {
        "id": "De2ap7DxjyBg"
      }
    },
    {
      "cell_type": "markdown",
      "source": [
        "#Regulatory Framework - Capital Requirements"
      ],
      "metadata": {
        "id": "6uVtm0d7sweC"
      }
    },
    {
      "cell_type": "markdown",
      "source": [
        "To absorb losses from loan portfolio, banks are required to maintain sufficient capital. This capital is referred to as \"Capital Adequency\" or \"Regulatory Capital\"\n",
        "\n",
        "A bank must maintain a capital that is equal or greater than a certain percent of risk weighted asset. \n",
        "\n",
        "CAR (Capital Adequecy Ratio) = Capital/ Risk-weighted Loans. For e.g., this should be more than 8%"
      ],
      "metadata": {
        "id": "cIAQDul7p3db"
      }
    },
    {
      "cell_type": "markdown",
      "source": [
        "#Basel - II Accord"
      ],
      "metadata": {
        "id": "dNmyCeQ1ttmW"
      }
    },
    {
      "cell_type": "markdown",
      "source": [
        "Basel 2 has laid down norms that define- \n",
        "1. How much capital banks need to have\n",
        "2. How is capital defined and \n",
        "3. How capital is compared against risk-weighted assets\n",
        "\n",
        "Three pillars of Basel 2 Accord - \n",
        "\n",
        "1. Minimum Capital Requirement\n",
        "2. Supervisory Review\n",
        "3. Market Discipline"
      ],
      "metadata": {
        "id": "9uwfK6RPtwtZ"
      }
    },
    {
      "cell_type": "markdown",
      "source": [
        "#Basel II - MCR"
      ],
      "metadata": {
        "id": "JpQBoBs0uUiE"
      }
    },
    {
      "cell_type": "markdown",
      "source": [
        "MCR Deals with  - \n",
        "\n",
        "1. Credit Risk - 3 approaches to model Credit Risk - (a) Standardized Approach (SA) and (b) Internal Ratings Based (IRB) Approach. IRB is further divided into (a) Foundation IRB Approach and (b) Advanced IRB Approach. \n",
        "\n",
        "These approaches prescribe how each of the components of expected loss needs to be modelled\n",
        "\n",
        "2. Operational\n",
        "3. Market\n",
        "\n",
        "SA Approach --> capital that has to be held is prescribed as % of total exposure. For all three models (PD, LGD, EAD), banks need to rely on external sources for assessing credit risk. (for e.g., FICO, S&P, Moody's)\n",
        "\n",
        "IRB Approach - banks rely on their internal data as they already have lot of their own customer data\n",
        "\n",
        "For individuals --> FICO scores range between 300-850. Lower score, high risk, less credit worthiness\n",
        "\n",
        "For businesses --> AAA (best rating) to D (worst Rating)\n",
        "\n",
        "Retail Loans\n",
        "\n",
        "An amount equivalent to 75% of exposure should be held as capital for every retail exposure - Credit cards and consumer loan\n",
        "\n",
        "35% - for mortgages\n",
        "\n",
        "\n",
        "\n",
        "SA Approach - PD, LGD and EAD are sourced externally\n",
        "F-IRB -> PD sourced internally, rest two are sourced externally\n",
        "A-IRB --> All components sourced internally\n",
        "\n",
        "Banks usually prefer A-IRB approach as holding too much capital (under SA approach) is a lot and its the same for all exposures, regardless of risk associated with each customer. Banks need this capital for expanding their business. \n",
        "\n",
        "Precise estimation of capital helps in holding less capital - This in turn means the bank can generate more new business with the same capital\n",
        "\n",
        "To illustrate an example - lets say a bank has a capital of $10Bn. With a CAR of 8% - \n",
        "\n",
        "Standard Approach - The bank can lend 8% of 75% of $10bn (75% is the risk weighted asset)\n",
        "A-IRB Approach - In this case RWA will be much lesser than 75% "
      ],
      "metadata": {
        "id": "ua9zPL70uW9U"
      }
    }
  ]
}